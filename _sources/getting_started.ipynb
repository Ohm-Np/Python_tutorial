{
 "cells": [
  {
   "cell_type": "markdown",
   "metadata": {},
   "source": [
    "# Getting started\n",
    "\n",
    "<style> p { text-align: justify; } </style>\n",
    "\n",
    "Before diving into geospatial analysis, it’s essential to set up your working environment and become familiar with the key tools and libraries used in Python for geospatial data processing. This chapter will guide you through the process of installing Python, setting up a virtual environment, and configuring the necessary packages like GeoPandas, Rasterio, and Matplotlib. You’ll also learn about the structure of geospatial datasets, such as vector and raster data, and how to prepare your system for effective analysis. By the end of this chapter, you'll have everything in place to begin working with geospatial data in Python, ready to explore and manipulate spatial information efficiently. "
   ]
  },
  {
   "cell_type": "markdown",
   "metadata": {},
   "source": [
    "## Setting Up Your Python Environment\n",
    "\n",
    "In Python, we use an environment to manage dependencies. Here's how to set up everything:\n",
    "\n",
    "### Install Python and VS Code:\n",
    "\n",
    "**1. Download Python:**\n",
    "\n",
    "- Go to the official [Python website](https://www.python.org/downloads/).\n",
    "- Download and install the latest version for your operating system.\n",
    "- Make sure to check the box Add Python to PATH during installation.\n",
    "\n",
    "**2. Install VS Code:**\n",
    "\n",
    "- Download from [Visual Studio Code](https://code.visualstudio.com/download)'s website.\n",
    "- Install it and set up the Python extension (see instructions in previous responses)."
   ]
  },
  {
   "cell_type": "markdown",
   "metadata": {},
   "source": [
    "### Installing Required Python Packages\n",
    "\n",
    "Install the geospatial libraries you'll need for the analysis. In Python, we use tools like `geopandas`, `rasterio`, `pandas`, and `matplotlib`.\n",
    "\n",
    "Run this command in the terminal:"
   ]
  },
  {
   "cell_type": "code",
   "execution_count": 3,
   "metadata": {},
   "outputs": [
    {
     "name": "stdout",
     "output_type": "stream",
     "text": [
      "Note: you may need to restart the kernel to use updated packages.\n"
     ]
    }
   ],
   "source": [
    "pip install geopandas rasterio pandas matplotlib numpy rasterstats requests os >nul 2>&1"
   ]
  },
  {
   "cell_type": "markdown",
   "metadata": {},
   "source": [
    "### Python Script for Setting Up Packages\n",
    "\n",
    "To make ensure the required Python libraries are installed, You can use a script like this:"
   ]
  },
  {
   "cell_type": "code",
   "execution_count": 5,
   "metadata": {},
   "outputs": [],
   "source": [
    "import subprocess\n",
    "import sys\n",
    "\n",
    "# List of required packages\n",
    "packages = [\"geopandas\", \"rasterio\", \"pandas\", \"matplotlib\", \"numpy\", \"rasterstats\", \"requests\", \"os\"]\n",
    "\n",
    "# Install missing packages\n",
    "for package in packages:\n",
    "    try:\n",
    "        __import__(package)\n",
    "    except ImportError:\n",
    "        subprocess.check_call([sys.executable, \"-m\", \"pip\", \"install\", package])"
   ]
  },
  {
   "cell_type": "markdown",
   "metadata": {},
   "source": [
    "## Understanding Geospatial Data\n",
    "\n",
    "In Python, we use GeoPandas for handling vector data and rasterio for raster data. Here's a brief explanation:\n",
    "\n",
    "**1. Vector Data**\n",
    "\n",
    "Vector data represents geographic features as geometric shapes like points, lines, and polygons. These shapes correspond to real-world objects: points might represent cities or landmarks, lines can model roads or rivers, and polygons define areas such as country borders or lakes. Each feature typically comes with associated attributes, like the name of a city or the population of a region.\n",
    "\n",
    "Common formats for storing vector data include shapefiles, GeoPackages, GeoJSON, and KML files. `GeoPandas` is a Python library designed for working with this type of data. It allows you to read, manipulate, and analyze vector data using a structure called a GeoDataFrame, which is like a spreadsheet where each row is a spatial feature. GeoPandas also integrates smoothly with visualization tools, making it easy to create maps of your data.\n",
    "\n",
    "**2. Raster Data**\n",
    "\n",
    "Raster data, on the other hand, represents the world as a grid of cells, where each cell contains a value. This type of data is commonly used for continuous phenomena, like satellite imagery, elevation models, or temperature distributions. Each cell’s value might represent something like the brightness in a satellite image or the height of the terrain in a digital elevation model.\n",
    "\n",
    "Raster data is often stored in formats like GeoTIFF or NetCDF, which include metadata such as spatial resolution and coordinate reference systems. `Rasterio` is a Python library specifically designed for handling raster data. It provides tools for reading and processing these grids, enabling tasks like extracting specific regions, normalizing pixel values, or performing mathematical operations on the data."
   ]
  },
  {
   "cell_type": "markdown",
   "metadata": {},
   "source": [
    "## Download Resources\n",
    "\n",
    "You can download all the geospatial data used in this tutorial from the provided link. The data includes two formats: Geopackage for vector data and GeoTIFF for raster data, both of which you will need to follow along with the tutorial. For your convenience, I have provided the download links in each chapter and sub-chapter.\n",
    "\n",
    "**Vector**\n",
    "\n",
    "- [<span style=\"color:red\">Kanchanpur</span>](https://github.com/Ohm-Np/R_tutorial/raw/refs/heads/master/data/vector/kanchanpur.gpkg)\n",
    "- [<span style=\"color:red\">Sreepur</span>](https://github.com/Ohm-Np/R_tutorial/raw/refs/heads/master/data/vector/sreepur.gpkg)\n",
    "- [<span style=\"color:red\">Protected Areas</span>](https://github.com/Ohm-Np/R_tutorial/raw/refs/heads/master/data/vector/protected_areas.gpkg)\n",
    "\n",
    "**Raster**\n",
    "\n",
    "- [<span style=\"color:red\">Land Cover 2015</span>](https://github.com/Ohm-Np/R_tutorial/raw/refs/heads/master/data/raster/landcover_2015.tif)\n",
    "- [<span style=\"color:red\">Land Cover 2019</span>](https://github.com/Ohm-Np/R_tutorial/raw/refs/heads/master/data/raster/landcover_2019.tif)\n",
    "- [<span style=\"color:red\">Population Count 2000</span>](https://github.com/Ohm-Np/R_tutorial/raw/refs/heads/master/data/raster/popCount_2000.tif)\n",
    "- [<span style=\"color:red\">Population Count 2020</span>](https://github.com/Ohm-Np/R_tutorial/raw/refs/heads/master/data/raster/popCount_2020.tif)"
   ]
  }
 ],
 "metadata": {
  "kernelspec": {
   "display_name": "Python 3",
   "language": "python",
   "name": "python3"
  },
  "language_info": {
   "codemirror_mode": {
    "name": "ipython",
    "version": 3
   },
   "file_extension": ".py",
   "mimetype": "text/x-python",
   "name": "python",
   "nbconvert_exporter": "python",
   "pygments_lexer": "ipython3",
   "version": "3.9.13"
  },
  "widgets": {
   "application/vnd.jupyter.widget-state+json": {
    "state": {},
    "version_major": 2,
    "version_minor": 0
   }
  }
 },
 "nbformat": 4,
 "nbformat_minor": 4
}
