{
 "cells": [
  {
   "cell_type": "markdown",
   "metadata": {},
   "source": [
    "# Getting started\n",
    "\n",
    "<style> p { text-align: justify; } </style>\n",
    "\n",
    "Before diving into geospatial analysis, it’s essential to set up your working environment and become familiar with the key tools and libraries used in Python for geospatial data processing. This chapter will guide you through the process of installing Python, setting up a virtual environment, and configuring the necessary packages like GeoPandas, Rasterio, and Matplotlib. You’ll also learn about the structure of geospatial datasets, such as vector and raster data, and how to prepare your system for effective analysis. By the end of this chapter, you'll have everything in place to begin working with geospatial data in Python, ready to explore and manipulate spatial information efficiently."
   ]
  },
  {
   "cell_type": "markdown",
   "metadata": {},
   "source": [
    "# Setting Up Your Python Environment\n",
    "\n",
    "In Python, we use an environment to manage dependencies. Here's how to set up everything:\n",
    "\n",
    "**Install Python and VS Code:**\n",
    "\n",
    "**1. Download Python:**\n",
    "\n",
    "- Go to the official [Python website](https://www.python.org/downloads/).\n",
    "- Download and install the latest version for your operating system.\n",
    "- Make sure to check the box Add Python to PATH during installation.\n",
    "\n",
    "**2. Install VS Code:**\n",
    "\n",
    "- Download from Visual Studio Code's website.\n",
    "- Install it and set up the Python extension (see instructions in previous responses)."
   ]
  },
  {
   "cell_type": "markdown",
   "metadata": {},
   "source": [
    "# Installing Required Python Packages\n",
    "\n",
    "Install the geospatial libraries you'll need for the analysis. In Python, we use tools like `geopandas`, `rasterio`, `pandas`, and `matplotlib`.\n",
    "\n",
    "Run this command in the terminal:"
   ]
  },
  {
   "cell_type": "code",
   "execution_count": null,
   "metadata": {
    "vscode": {
     "languageId": "plaintext"
    }
   },
   "outputs": [],
   "source": [
    "pip install geopandas rasterio pandas matplotlib"
   ]
  },
  {
   "cell_type": "markdown",
   "metadata": {},
   "source": [
    "**Python Script for Setting Up Packages**\n",
    "\n",
    "To make ensure the required Python libraries are installed, You can use a script like this:"
   ]
  },
  {
   "cell_type": "code",
   "execution_count": null,
   "metadata": {
    "vscode": {
     "languageId": "plaintext"
    }
   },
   "outputs": [],
   "source": [
    "import subprocess\n",
    "import sys\n",
    "\n",
    "# List of required packages\n",
    "packages = [\"geopandas\", \"rasterio\", \"pandas\", \"matplotlib\"]\n",
    "\n",
    "# Install missing packages\n",
    "for package in packages:\n",
    "    try:\n",
    "        __import__(package)\n",
    "    except ImportError:\n",
    "        subprocess.check_call([sys.executable, \"-m\", \"pip\", \"install\", package])"
   ]
  }
 ],
 "metadata": {
  "kernelspec": {
   "display_name": "Python 3",
   "language": "python",
   "name": "python3"
  },
  "language_info": {
   "codemirror_mode": {
    "name": "ipython",
    "version": 3
   },
   "file_extension": ".py",
   "mimetype": "text/x-python",
   "name": "python",
   "nbconvert_exporter": "python",
   "pygments_lexer": "ipython3",
   "version": "3.8.0"
  },
  "widgets": {
   "application/vnd.jupyter.widget-state+json": {
    "state": {},
    "version_major": 2,
    "version_minor": 0
   }
  }
 },
 "nbformat": 4,
 "nbformat_minor": 4
}
