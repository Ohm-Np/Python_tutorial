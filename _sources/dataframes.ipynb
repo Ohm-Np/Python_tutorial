{
 "cells": [
  {
   "cell_type": "markdown",
   "metadata": {},
   "source": [
    "# Data Frames in Python\n",
    "\n",
    "<style> p { text-align: justify; } </style>\n",
    "\n",
    "A data frame is a two-dimensional, size-mutable, and heterogeneous data structure. Think of it as a table or spreadsheet where rows represent records and columns represent variables or attributes. In Python, the `pandas.DataFrame` class is used to represent data frames.\n",
    "\n",
    "Key characteristics of data frames:\n",
    "\n",
    "- Columns can contain different data types (e.g., numeric, character, factor).\n",
    "- Rows represent individual observations or cases.\n",
    "- Data frames can hold large datasets efficiently."
   ]
  },
  {
   "cell_type": "markdown",
   "metadata": {},
   "source": [
    "## Creating Data Frames\n",
    "\n",
    "A data frame can be created from various data types:"
   ]
  },
  {
   "cell_type": "code",
   "execution_count": 3,
   "metadata": {},
   "outputs": [
    {
     "name": "stdout",
     "output_type": "stream",
     "text": [
      "      Name  Age Grade    Major\n",
      "0    Amrit   27     A    Maths\n",
      "1   Ishwor   24     B  Science\n",
      "2    Indra   21     A    Maths\n",
      "3  Rakshya   25     B  Science\n"
     ]
    }
   ],
   "source": [
    "import pandas as pd\n",
    "\n",
    "# Creating a data from a dictionary\n",
    "\n",
    "data = {\n",
    "    \"Name\": [\"Amrit\", \"Ishwor\", \"Indra\", \"Rakshya\"],\n",
    "    \"Age\": [27, 24, 21, 25],\n",
    "    \"Grade\": [\"A\", \"B\", \"A\", \"B\"],\n",
    "    \"Major\": [\"Maths\", \"Science\", \"Maths\", \"Science\"]\n",
    "}\n",
    "\n",
    "df = pd.DataFrame(data)\n",
    "\n",
    "# Display the data frame\n",
    "print(df)"
   ]
  },
  {
   "cell_type": "markdown",
   "metadata": {},
   "source": [
    "## Accessing and Modifying Data\n",
    "\n",
    "**Selecting Rows and Columns**\n",
    "\n",
    "We can access elements of a data frame using indexing, column names, or logical conditions."
   ]
  },
  {
   "cell_type": "code",
   "execution_count": 4,
   "metadata": {},
   "outputs": [
    {
     "name": "stdout",
     "output_type": "stream",
     "text": [
      "0      Amrit\n",
      "1     Ishwor\n",
      "2      Indra\n",
      "3    Rakshya\n",
      "Name: Name, dtype: object\n"
     ]
    }
   ],
   "source": [
    "# Access a column\n",
    "print(df[\"Name\"])"
   ]
  },
  {
   "cell_type": "code",
   "execution_count": 5,
   "metadata": {},
   "outputs": [
    {
     "name": "stdout",
     "output_type": "stream",
     "text": [
      "Name     Amrit\n",
      "Age         27\n",
      "Grade        A\n",
      "Major    Maths\n",
      "Name: 0, dtype: object\n"
     ]
    }
   ],
   "source": [
    "# Access a row by index\n",
    "print(df.loc[0])"
   ]
  },
  {
   "cell_type": "code",
   "execution_count": 11,
   "metadata": {},
   "outputs": [
    {
     "name": "stdout",
     "output_type": "stream",
     "text": [
      "Indra\n"
     ]
    }
   ],
   "source": [
    "# Access a specific value\n",
    "value = df.at[2, \"Name\"]  # Using label-based indexing\n",
    "print(value)"
   ]
  },
  {
   "cell_type": "code",
   "execution_count": 12,
   "metadata": {},
   "outputs": [
    {
     "name": "stdout",
     "output_type": "stream",
     "text": [
      "Indra\n"
     ]
    }
   ],
   "source": [
    "# Using position-based indexing\n",
    "value = df.iloc[2, 0]  \n",
    "print(value)"
   ]
  },
  {
   "cell_type": "markdown",
   "metadata": {},
   "source": [
    "**Adding and Removing Columns**\n",
    "\n",
    "We can add a new column to a data frame dynamically or remove an existing column."
   ]
  },
  {
   "cell_type": "code",
   "execution_count": 13,
   "metadata": {},
   "outputs": [
    {
     "name": "stdout",
     "output_type": "stream",
     "text": [
      "      Name  Age Grade    Major   Pass\n",
      "0    Amrit   27     A    Maths   True\n",
      "1   Ishwor   24     B  Science  False\n",
      "2    Indra   21     A    Maths   True\n",
      "3  Rakshya   25     B  Science  False\n"
     ]
    }
   ],
   "source": [
    "# Add a column 'Pass' where students with Grade 'A' are True\n",
    "df[\"Pass\"] = df[\"Grade\"] == \"A\"\n",
    "print(df)"
   ]
  },
  {
   "cell_type": "code",
   "execution_count": 14,
   "metadata": {},
   "outputs": [
    {
     "name": "stdout",
     "output_type": "stream",
     "text": [
      "      Name  Age    Major   Pass\n",
      "0    Amrit   27    Maths   True\n",
      "1   Ishwor   24  Science  False\n",
      "2    Indra   21    Maths   True\n",
      "3  Rakshya   25  Science  False\n"
     ]
    }
   ],
   "source": [
    "# Remove the 'Grade' column\n",
    "df = df.drop(columns=[\"Grade\"])\n",
    "print(df)"
   ]
  },
  {
   "cell_type": "markdown",
   "metadata": {},
   "source": [
    "## Data Frame Operations\n",
    "\n",
    "**Filtering and Subsetting**\n",
    "\n",
    "We can filter rows based on conditions using logical operators."
   ]
  },
  {
   "cell_type": "code",
   "execution_count": 15,
   "metadata": {},
   "outputs": [
    {
     "name": "stdout",
     "output_type": "stream",
     "text": [
      "      Name  Age    Major   Pass\n",
      "0    Amrit   27    Maths   True\n",
      "1   Ishwor   24  Science  False\n",
      "3  Rakshya   25  Science  False\n"
     ]
    }
   ],
   "source": [
    "# Filter rows where Age > 22\n",
    "filtered_df = df[df[\"Age\"] > 22]\n",
    "print(filtered_df)"
   ]
  },
  {
   "cell_type": "markdown",
   "metadata": {},
   "source": [
    "**Sorting and Reordering**\n",
    "\n",
    "Sorting a data frame is straightforward with the `sort_values()` method."
   ]
  },
  {
   "cell_type": "code",
   "execution_count": 16,
   "metadata": {},
   "outputs": [
    {
     "name": "stdout",
     "output_type": "stream",
     "text": [
      "      Name  Age    Major   Pass\n",
      "2    Indra   21    Maths   True\n",
      "1   Ishwor   24  Science  False\n",
      "3  Rakshya   25  Science  False\n",
      "0    Amrit   27    Maths   True\n"
     ]
    }
   ],
   "source": [
    "# Sort by the 'Age' column in ascending order\n",
    "df_sorted = df.sort_values(by=\"Age\", ascending=True)\n",
    "print(df_sorted)"
   ]
  },
  {
   "cell_type": "markdown",
   "metadata": {},
   "source": [
    "**Summary and Statistical Functions**\n",
    "\n",
    "The `.describe()` method in pandas provides a summary of each column in a DataFrame. Here's how:"
   ]
  },
  {
   "cell_type": "code",
   "execution_count": 18,
   "metadata": {},
   "outputs": [
    {
     "name": "stdout",
     "output_type": "stream",
     "text": [
      "         Age\n",
      "count   4.00\n",
      "mean   24.25\n",
      "std     2.50\n",
      "min    21.00\n",
      "25%    23.25\n",
      "50%    24.50\n",
      "75%    25.50\n",
      "max    27.00\n"
     ]
    }
   ],
   "source": [
    "# Summary of the DataFrame (Descriptive statistics)\n",
    "print(df.describe())"
   ]
  },
  {
   "cell_type": "code",
   "execution_count": 19,
   "metadata": {},
   "outputs": [
    {
     "name": "stdout",
     "output_type": "stream",
     "text": [
      "Number of rows: 4\n",
      "Number of columns: 4\n"
     ]
    }
   ],
   "source": [
    "# Get number of rows and columns\n",
    "num_rows, num_cols = df.shape\n",
    "\n",
    "print(f\"Number of rows: {num_rows}\")\n",
    "print(f\"Number of columns: {num_cols}\")"
   ]
  },
  {
   "cell_type": "markdown",
   "metadata": {},
   "source": [
    "**Aggregation and Grouping**\n",
    "\n",
    "The `groupby` method in pandas along with aggregation functions enable aggregation and grouping."
   ]
  },
  {
   "cell_type": "code",
   "execution_count": 20,
   "metadata": {},
   "outputs": [
    {
     "name": "stdout",
     "output_type": "stream",
     "text": [
      "     Major  Average_Age\n",
      "0    Maths         24.0\n",
      "1  Science         24.5\n"
     ]
    }
   ],
   "source": [
    "# Group by 'Major' and calculate the average age\n",
    "grouped_df = df.groupby(\"Major\").agg(Average_Age=(\"Age\", \"mean\")).reset_index()\n",
    "\n",
    "print(grouped_df)"
   ]
  },
  {
   "cell_type": "markdown",
   "metadata": {},
   "source": [
    "- `groupby` groups the data frame by the 'Major' column\n",
    "- `agg` applies the mean function to the 'Age' column and renames the result to 'Average_Age'\n",
    "- `reset_index()` resets the index so the grouped column \"Major\" becomes a regular column in the resulting data frame."
   ]
  },
  {
   "cell_type": "markdown",
   "metadata": {},
   "source": [
    "So far, this chapter has introduced you to the versatility and power of data frames in Python, laying the foundation for data manipulation and analysis. Now, we will delve into data frames specifically designed for geospatial data."
   ]
  },
  {
   "cell_type": "markdown",
   "metadata": {},
   "source": [
    "## Geospatial Data Frames\n",
    "\n",
    "A Geospatial Data Frame (GeoDataFrame) extends a standard data frame by incorporating a geometry column that holds spatial data, such as points, lines, and polygons. This combination of spatial and attribute data makes geospatial data frames particularly useful for spatial analysis and mapping.\n",
    "\n",
    "In Python, the `GeoPandas` library is often used to handle geospatial data frames, providing easy-to-use structures for working with vector data and offering compatibility with other libraries for geospatial and statistical analysis.\n",
    "\n",
    "The geometry is a key component of geospatial data frames, defining the spatial features for each observation. Each row represents a spatial feature linked to its attributes, and the geometry column typically stores spatial data in formats such as GeoJSON, WKT (Well-Known Text), or binary formats like WKB (Well-Known Binary).\n",
    "\n",
    "### Creating GDF\n",
    "\n",
    "You can create a geospatial data frame using `GeoPandas`. Here’s an example:"
   ]
  },
  {
   "cell_type": "code",
   "execution_count": 21,
   "metadata": {},
   "outputs": [
    {
     "name": "stdout",
     "output_type": "stream",
     "text": [
      "      Name  Latitude  Longitude           geometry\n",
      "0  Point A      27.7       85.3  POINT (85.3 27.7)\n",
      "1  Point B      28.2       84.9  POINT (84.9 28.2)\n",
      "2  Point C      26.9       83.8  POINT (83.8 26.9)\n"
     ]
    }
   ],
   "source": [
    "import geopandas as gpd\n",
    "import pandas as pd\n",
    "from shapely.geometry import Point\n",
    "\n",
    "# Create a data frame with spatial data\n",
    "data = {\n",
    "    \"Name\": [\"Point A\", \"Point B\", \"Point C\"],\n",
    "    \"Latitude\": [27.7, 28.2, 26.9],\n",
    "    \"Longitude\": [85.3, 84.9, 83.8]\n",
    "}\n",
    "\n",
    "df = pd.DataFrame(data)\n",
    "\n",
    "# Convert to a GeoDataFrame\n",
    "geometry = [Point(xy) for xy in zip(df[\"Longitude\"], df[\"Latitude\"])]\n",
    "geo_data = gpd.GeoDataFrame(df, geometry=geometry)\n",
    "\n",
    "# Set the coordinate reference system (CRS) to WGS 84\n",
    "geo_data.set_crs(epsg=4326, inplace=True)\n",
    "\n",
    "# Print the GeoDataFrame\n",
    "print(geo_data)"
   ]
  },
  {
   "cell_type": "markdown",
   "metadata": {},
   "source": [
    "### Manipulating GDF\n",
    "\n",
    "**Spatial Queries**\n",
    "\n",
    "Geospatial data frames support operations like spatial filtering and proximity analysis."
   ]
  },
  {
   "cell_type": "code",
   "execution_count": 22,
   "metadata": {},
   "outputs": [
    {
     "name": "stdout",
     "output_type": "stream",
     "text": [
      "      Name  Latitude  Longitude           geometry\n",
      "0  Point A      27.7       85.3  POINT (85.3 27.7)\n",
      "1  Point B      28.2       84.9  POINT (84.9 28.2)\n"
     ]
    }
   ],
   "source": [
    "from shapely.geometry import box\n",
    "\n",
    "# Define a bounding box and convert it to a geometry object\n",
    "bbox = box(84, 27, 86, 29)  # xmin, ymin, xmax, ymax\n",
    "bbox_polygon = gpd.GeoSeries([bbox], crs=\"EPSG:4326\")\n",
    "\n",
    "# Filter points within the bounding box\n",
    "filtered_data = geo_data[geo_data.geometry.within(bbox_polygon.iloc[0])]\n",
    "\n",
    "# Print filtered data\n",
    "print(filtered_data)"
   ]
  },
  {
   "cell_type": "markdown",
   "metadata": {},
   "source": [
    "**Attribute-Based Operations**\n",
    "\n",
    "Just like standard data frames, we can manipulate attributes in geospatial data frames."
   ]
  },
  {
   "cell_type": "code",
   "execution_count": 23,
   "metadata": {},
   "outputs": [
    {
     "name": "stdout",
     "output_type": "stream",
     "text": [
      "      Name  Latitude  Longitude           geometry  Elevation\n",
      "0  Point A      27.7       85.3  POINT (85.3 27.7)       1500\n",
      "1  Point B      28.2       84.9  POINT (84.9 28.2)       2000\n",
      "2  Point C      26.9       83.8  POINT (83.8 26.9)       1700\n"
     ]
    }
   ],
   "source": [
    "# Add a new column for Elevation\n",
    "geo_data['Elevation'] = [1500, 2000, 1700]\n",
    "\n",
    "# Print the updated GeoDataFrame\n",
    "print(geo_data)"
   ]
  },
  {
   "cell_type": "markdown",
   "metadata": {},
   "source": [
    "### Visualization of GDF\n",
    "\n",
    "Geospatial data frames can be visualized using the `matplotlib` library."
   ]
  },
  {
   "cell_type": "code",
   "execution_count": 24,
   "metadata": {},
   "outputs": [
    {
     "data": {
      "image/png": "[encoded data removed]",
      "text/plain": [
       "<Figure size 432x288 with 1 Axes>"
      ]
     },
     "metadata": {
      "needs_background": "light"
     },
     "output_type": "display_data"
    }
   ],
   "source": [
    "import matplotlib.pyplot as plt\n",
    "\n",
    "# Plot the GeoDataFrame\n",
    "geo_data.plot(marker='o', color='blue', legend=True)\n",
    "plt.title(\"Geospatial Data Points\")\n",
    "plt.show()"
   ]
  },
  {
   "cell_type": "markdown",
   "metadata": {},
   "source": [
    "Geospatial data frames bridge the gap between tabular data and spatial analysis, making them indispensable for modern geospatial workflows. Their versatility, combined with Python’s ecosystem of geospatial libraries, provides an efficient and intuitive way to analyze and visualize spatial data."
   ]
  },
  {
   "cell_type": "markdown",
   "metadata": {},
   "source": [
    "## Vector GeoDataFrame\n",
    "\n",
    "In Python, the `GeoDataFrame` from the `GeoPandas` library is used to represent vector-based spatial data. A GeoDataFrame combines both *spatial* and *tabular* data, making it ideal for spatial analysis and data manipulation. It is essentially a data frame with a special geometry column that contains spatial data, such as points, lines, and polygons.\n",
    "\n",
    "With a GeoDataFrame, you can perform typical data manipulation tasks, such as filtering, summarizing, and joining, on the tabular data. At the same time, it allows for spatial operations like plotting, spatial indexing, and spatial joins. The **tabular** portion of a GeoDataFrame allows you to perform standard data frame operations (like groupby, sort, merge), while the geometry column enables you to carry out spatial analysis and visualization.\n",
    "\n",
    "This section will focus on working with geospatial data, such as the vector data for the Kanchanpur district in Nepal, available in GeoPackage (.gpkg) format. You can download this data, load it using GeoPandas, and perform both spatial and tabular operations. The GeoDataFrame provides a powerful tool for handling, analyzing, and visualizing geographic data, seamlessly integrating both spatial and non-spatial aspects of analysis."
   ]
  },
  {
   "cell_type": "markdown",
   "metadata": {},
   "source": [
    "### Structure\n",
    "\n",
    "The vector GeoDataFrame contains both the geometry column and attribute data."
   ]
  },
  {
   "cell_type": "code",
   "execution_count": 26,
   "metadata": {},
   "outputs": [
    {
     "name": "stdout",
     "output_type": "stream",
     "text": [
      "<class 'geopandas.geodataframe.GeoDataFrame'>\n",
      "RangeIndex: 21 entries, 0 to 20\n",
      "Data columns (total 2 columns):\n",
      " #   Column    Non-Null Count  Dtype   \n",
      "---  ------    --------------  -----   \n",
      " 0   NAME      21 non-null     object  \n",
      " 1   geometry  21 non-null     geometry\n",
      "dtypes: geometry(1), object(1)\n",
      "memory usage: 464.0+ bytes\n",
      "None\n"
     ]
    }
   ],
   "source": [
    "import geopandas as gpd\n",
    "\n",
    "# Import the GeoDataFrame\n",
    "vector_data = gpd.read_file(\"data/vector/kanchanpur.gpkg\")\n",
    "\n",
    "# View the structure of the GeoDataFrame\n",
    "print(vector_data.info())\n"
   ]
  },
  {
   "cell_type": "code",
   "execution_count": 27,
   "metadata": {},
   "outputs": [
    {
     "name": "stdout",
     "output_type": "stream",
     "text": [
      "           NAME                                           geometry\n",
      "0  BaisiBichawa  MULTIPOLYGON (((80.49934 28.64667, 80.49709 28...\n",
      "1      Beldandi  MULTIPOLYGON (((80.25229 28.75782, 80.25377 28...\n",
      "2      Chandani  MULTIPOLYGON (((80.10973 28.98432, 80.10986 28...\n",
      "3        Daijee  MULTIPOLYGON (((80.34424 29.05416, 80.34449 29...\n",
      "4   Dekhatbhuli  MULTIPOLYGON (((80.44701 28.78921, 80.43608 28...\n"
     ]
    }
   ],
   "source": [
    "# Display the first few rows\n",
    "print(vector_data.head())"
   ]
  },
  {
   "cell_type": "markdown",
   "metadata": {},
   "source": [
    "### Adding New Columns\n",
    "\n",
    "In Python, you can add a new column to a GeoDataFrame in a similar way you would add it to a regular DataFrame using `pandas`."
   ]
  },
  {
   "cell_type": "code",
   "execution_count": 28,
   "metadata": {},
   "outputs": [
    {
     "name": "stdout",
     "output_type": "stream",
     "text": [
      "           NAME                                           geometry  Population\n",
      "0  BaisiBichawa  MULTIPOLYGON (((80.49934 28.64667, 80.49709 28...       37900\n",
      "1      Beldandi  MULTIPOLYGON (((80.25229 28.75782, 80.25377 28...       46565\n",
      "2      Chandani  MULTIPOLYGON (((80.10973 28.98432, 80.10986 28...       72813\n",
      "3        Daijee  MULTIPOLYGON (((80.34424 29.05416, 80.34449 29...       49223\n",
      "4   Dekhatbhuli  MULTIPOLYGON (((80.44701 28.78921, 80.43608 28...       52221\n"
     ]
    }
   ],
   "source": [
    "# Add a new column - Population\n",
    "vector_data['Population'] = [\n",
    "    37900, 46565, 72813, 49223, 52221, 64436, 40823,\n",
    "    97216, 36368, 277108, 51835, 38199, 46773, 44571,\n",
    "    48838, 11581, 131, 19211, 56755, 58257, 37573\n",
    "]\n",
    "\n",
    "# Display the updated GeoDataFrame\n",
    "print(vector_data.head())"
   ]
  },
  {
   "cell_type": "markdown",
   "metadata": {},
   "source": [
    "### Arithmetic Computation\n",
    "\n",
    "In Python, you can calculate the area of each geometry in a `GeoDataFrame` and create a new column for population density as follows:"
   ]
  },
  {
   "cell_type": "code",
   "execution_count": 31,
   "metadata": {},
   "outputs": [
    {
     "name": "stdout",
     "output_type": "stream",
     "text": [
      "           NAME  Population    area_km2      Density\n",
      "0  BaisiBichawa       37900   74.476642   508.884384\n",
      "1      Beldandi       46565   24.906232  1869.612393\n",
      "2      Chandani       72813   32.517201  2239.214842\n",
      "3        Daijee       49223  102.823123   478.715280\n",
      "4   Dekhatbhuli       52221   91.109522   573.167312\n"
     ]
    }
   ],
   "source": [
    "# Reproject vector data to a projected CRS (e.g., UTM zone 45N for this area)\n",
    "vector_data = vector_data.to_crs(epsg=32645)\n",
    "\n",
    "# Calculate the area of each district (in square meters)\n",
    "vector_data['area_m2'] = vector_data.geometry.area\n",
    "\n",
    "# Convert the area from square meters to square kilometers\n",
    "vector_data['area_km2'] = vector_data['area_m2'] / 1e6\n",
    "\n",
    "# Add a new column with density (population/area)\n",
    "vector_data['Density'] = vector_data['Population'] / vector_data['area_km2']\n",
    "\n",
    "# Display the updated GeoDataFrame\n",
    "print(vector_data[['NAME', 'Population', 'area_km2', 'Density']].head())"
   ]
  },
  {
   "cell_type": "markdown",
   "metadata": {},
   "source": [
    "### Selecting and Filtering\n",
    "\n",
    "You can filter the data using `GeoDataFrame` from `geopandas`. Here's how you can select specific columns and display the first few rows:"
   ]
  },
  {
   "cell_type": "code",
   "execution_count": 32,
   "metadata": {},
   "outputs": [
    {
     "name": "stdout",
     "output_type": "stream",
     "text": [
      "           NAME  Population\n",
      "0  BaisiBichawa       37900\n",
      "1      Beldandi       46565\n",
      "2      Chandani       72813\n",
      "3        Daijee       49223\n",
      "4   Dekhatbhuli       52221\n"
     ]
    }
   ],
   "source": [
    "# Select specific columns (e.g., \"NAME\" and \"Population\")\n",
    "selected_data = vector_data[['NAME', 'Population']]\n",
    "\n",
    "# Display the first few rows\n",
    "print(selected_data.head())"
   ]
  },
  {
   "cell_type": "code",
   "execution_count": 37,
   "metadata": {},
   "outputs": [
    {
     "name": "stdout",
     "output_type": "stream",
     "text": [
      "       NAME  Population      Density   area_km2\n",
      "2  Chandani       72813  2239.214842  32.517201\n",
      "5   Dodhara       64436  2591.163947  24.867589\n",
      "7    Kalika       97216  3789.177761  25.656226\n",
      "9  Laxmipur      277108  9518.765708  29.111758\n"
     ]
    }
   ],
   "source": [
    "# Filter rows where Population is greater than 60,000\n",
    "filtered_data = vector_data[vector_data['Population'] > 60000]\n",
    "\n",
    "# Display the filtered data (similar to tibble in R)\n",
    "print(filtered_data[['NAME', 'Population', 'Density', 'area_km2']])"
   ]
  },
  {
   "cell_type": "markdown",
   "metadata": {},
   "source": [
    "### Grouping and Summarizing\n",
    "\n",
    "Grouping and summarizing operations are common in data analysis. You can group data based on an attribute and calculate summary statistics for each group."
   ]
  },
  {
   "cell_type": "code",
   "execution_count": 42,
   "metadata": {},
   "outputs": [
    {
     "name": "stdout",
     "output_type": "stream",
     "text": [
      "                  NAME  total_population  average_density\n",
      "0         BaisiBichawa             37900       508.884384\n",
      "1             Beldandi             46565      1869.612393\n",
      "2             Chandani             72813      2239.214842\n",
      "3               Daijee             49223       478.715280\n",
      "4          Dekhatbhuli             52221       573.167312\n",
      "5              Dodhara             64436      2591.163947\n",
      "6              Jhalari             40823       332.137920\n",
      "7               Kalika             97216      3789.177761\n",
      "8           Krishnapur             36368       218.213683\n",
      "9             Laxmipur            277108      9518.765708\n",
      "10   MahendranagarN.P.             51835       299.845566\n",
      "11             Parasan             38199      1004.067157\n",
      "12            Pipaladi             46773      1087.800781\n",
      "13     RaikawarBichawa             44571       545.906632\n",
      "14      RampurBilaspur             48838      1236.669117\n",
      "15      RauteliBichawa             11581       382.064494\n",
      "16  Royal Shuklaphanta               131         0.360413\n",
      "17          Shankarpur             19211       538.994951\n",
      "18             Sreepur             56755      1012.202386\n",
      "19                Suda             58257      1001.135055\n",
      "20      Tribhuwanbasti             37573      1911.038295\n"
     ]
    }
   ],
   "source": [
    "# Group by 'NAME' and calculate the total population and average density\n",
    "region_summary = vector_data.groupby('NAME').agg(\n",
    "    total_population=('Population', 'sum'),\n",
    "    average_density=('Density', 'mean')\n",
    ").reset_index()\n",
    "\n",
    "# Display the result\n",
    "print(region_summary)"
   ]
  },
  {
   "cell_type": "markdown",
   "metadata": {},
   "source": [
    "- `groupby('NAME')`: Groups the GeoDataFrame by the NAME column, which represents different villages in Kanchanpur district.\n",
    "- `agg()`: Used to specify the aggregation functions. Here, it calculates the sum of `Population` and the mean of `Density`.\n",
    "- `reset_index()`: Resets the index after the grouping operation to make sure the resulting `DataFrame` is formatted properly."
   ]
  },
  {
   "cell_type": "markdown",
   "metadata": {},
   "source": [
    "### Pivoting and Reshaping\n",
    "\n",
    "In Python, you can achieve pivoting and reshaping using pandas."
   ]
  },
  {
   "cell_type": "code",
   "execution_count": 47,
   "metadata": {},
   "outputs": [
    {
     "name": "stdout",
     "output_type": "stream",
     "text": [
      "            NAME   attribute         value\n",
      "0   BaisiBichawa  Population  37900.000000\n",
      "1       Beldandi  Population  46565.000000\n",
      "2       Chandani  Population  72813.000000\n",
      "21  BaisiBichawa     Density    508.884384\n",
      "22      Beldandi     Density   1869.612393\n",
      "23      Chandani     Density   2239.214842\n"
     ]
    }
   ],
   "source": [
    "# Drop geometry column and pivot data into long format\n",
    "long_format = vector_data.drop(columns='geometry') \\\n",
    "                         .melt(id_vars=[\"NAME\"], value_vars=[\"Population\", \"Density\"], \n",
    "                               var_name=\"attribute\", value_name=\"value\")\n",
    "\n",
    "# Display the first and middle few rows of the reshaped DataFrame\n",
    "print(long_format.iloc[[0,1,2,21,22,23], :])"
   ]
  },
  {
   "cell_type": "markdown",
   "metadata": {},
   "source": [
    "- `drop(columns='geometry')`: This removes the geometry column since it’s not needed for reshaping the tabular data.\n",
    "- `melt()`: This function is used to pivot data from wide to long format."
   ]
  },
  {
   "cell_type": "markdown",
   "metadata": {},
   "source": [
    "### Visualization\n",
    "\n",
    "To plot the population density from a GeoDataFrame using `matplotlib` and `geopandas`, you can do the following:"
   ]
  },
  {
   "cell_type": "code",
   "execution_count": 70,
   "metadata": {},
   "outputs": [
    {
     "data": {
      "image/png": "[encoded data removed]",
      "text/plain": [
       "<Figure size 1200x800 with 2 Axes>"
      ]
     },
     "metadata": {
      "needs_background": "light"
     },
     "output_type": "display_data"
    }
   ],
   "source": [
    "import geopandas as gpd\n",
    "import matplotlib.pyplot as plt\n",
    "\n",
    "# Reproject vector data to a projected CRS (e.g., UTM zone 45N for this area)\n",
    "vector_data = vector_data.to_crs(epsg=4326)\n",
    "\n",
    "# Plot the Population Density\n",
    "vector_data.plot(column='Density', cmap='viridis', legend=True)\n",
    "plt.title(\"Population Density\")\n",
    "plt.show()\n"
   ]
  },
  {
   "cell_type": "markdown",
   "metadata": {},
   "source": [
    "## Raster GeoDataFrame\n",
    "\n",
    "A Raster GeoDataFrame extends the concept of a standard GeoDataFrame to represent raster data in a `tabular` format, integrating spatial information with associated metadata. While raster data is inherently grid-based, a Raster GeoDataFrame provides a structured way to store additional attributes, such as statistics, classification information, or metadata, alongside spatial references. This format is particularly useful for working with tiled or multi-resolution raster datasets, enabling seamless integration with vector data workflows. By combining the tabular nature of data frames with the grid structure of raster data, it facilitates efficient querying, visualization, and analysis of geospatial raster datasets."
   ]
  },
  {
   "cell_type": "markdown",
   "metadata": {},
   "source": [
    "### Creating a Raster Data\n",
    "\n",
    "The python uses `numpy` to create random raster data and `matplotlib` to visualize it. The `rasterio` package is included to define the raster's metadata and coordinate reference, though it isn’t required for basic visualization. If you'd like, this data can be saved to a file using rasterio.\n",
    "\n",
    "Creating a raster dataset with random values and plotting it:"
   ]
  },
  {
   "cell_type": "code",
   "execution_count": 1,
   "metadata": {},
   "outputs": [
    {
     "data": {
      "image/png": "[encoded data removed]",
      "text/plain": [
       "<Figure size 432x288 with 2 Axes>"
      ]
     },
     "metadata": {
      "needs_background": "light"
     },
     "output_type": "display_data"
    }
   ],
   "source": [
    "import numpy as np\n",
    "import rasterio\n",
    "from rasterio.plot import show\n",
    "import matplotlib.pyplot as plt\n",
    "\n",
    "# Create a raster-like array with random values\n",
    "rows, cols = 10, 10\n",
    "raster_data = np.random.uniform(0, 200, (rows, cols))\n",
    "\n",
    "# Define metadata for the raster\n",
    "transform = rasterio.transform.from_origin(west=0, north=10, xsize=1, ysize=1)  # Example transform\n",
    "meta = {\n",
    "    'driver': 'GTiff',\n",
    "    'dtype': 'float32',\n",
    "    'nodata': None,\n",
    "    'width': cols,\n",
    "    'height': rows,\n",
    "    'count': 1,\n",
    "    'crs': '+proj=latlong',\n",
    "    'transform': transform\n",
    "}\n",
    "\n",
    "# Plot the raster\n",
    "plt.imshow(raster_data, cmap='viridis')\n",
    "plt.colorbar(label=\"Random Values (0-200)\")\n",
    "plt.title(\"Random Raster Data\")\n",
    "plt.show()"
   ]
  },
  {
   "cell_type": "markdown",
   "metadata": {},
   "source": [
    "### Coverting Raster to GDF\n",
    "\n",
    "Here's how you can convert raster data to a DataFrame in Python and view the first few rows/columns:"
   ]
  },
  {
   "cell_type": "code",
   "execution_count": 10,
   "metadata": {},
   "outputs": [
    {
     "name": "stdout",
     "output_type": "stream",
     "text": [
      "            0           1           2           3\n",
      "0    9.486722    7.970051  185.341034  118.427440\n",
      "1  177.612209   54.231652   81.056526   33.781664\n",
      "2  132.081063  147.690934  170.482734   45.649135\n",
      "3  147.414827  168.349048  121.128104   64.665892\n"
     ]
    }
   ],
   "source": [
    "import pandas as pd\n",
    "import numpy as np\n",
    "\n",
    "# Convert the raster array to a DataFrame\n",
    "df = pd.DataFrame(raster_data)\n",
    "\n",
    "# Display the first few rows\n",
    "print(df.iloc[[0, 1, 2, 3], [0, 1, 2, 3]])"
   ]
  },
  {
   "cell_type": "markdown",
   "metadata": {},
   "source": [
    "If you'd like to include spatial information (e.g., row and column indices as spatial coordinates), here's how you can do it:"
   ]
  },
  {
   "cell_type": "code",
   "execution_count": 11,
   "metadata": {},
   "outputs": [
    {
     "name": "stdout",
     "output_type": "stream",
     "text": [
      "   x  y       value\n",
      "0  0  0    9.486722\n",
      "1  1  0    7.970051\n",
      "2  2  0  185.341034\n",
      "3  3  0  118.427440\n",
      "4  4  0   90.487945\n"
     ]
    }
   ],
   "source": [
    "# Add spatial coordinates (row and column indices)\n",
    "x, y = np.meshgrid(range(cols), range(rows))  # Create grid of coordinates\n",
    "\n",
    "df_with_coords = pd.DataFrame({\n",
    "    \"x\": x.flatten(),\n",
    "    \"y\": y.flatten(),\n",
    "    \"value\": raster_data.flatten()\n",
    "})\n",
    "\n",
    "# Display the first few rows\n",
    "print(df_with_coords.head())"
   ]
  },
  {
   "cell_type": "markdown",
   "metadata": {},
   "source": [
    "This approach provides both the raster values and their respective spatial coordinates, enabling easier manipulation and analysis of the data."
   ]
  },
  {
   "cell_type": "markdown",
   "metadata": {},
   "source": [
    "### Summarize Raster Values\n",
    "\n",
    "In this subsection, we will load the Population Count raster data for the year 2020."
   ]
  },
  {
   "cell_type": "code",
   "execution_count": 13,
   "metadata": {},
   "outputs": [
    {
     "data": {
      "image/png": "[encoded data removed]",
      "text/plain": [
       "<Figure size 432x288 with 2 Axes>"
      ]
     },
     "metadata": {
      "needs_background": "light"
     },
     "output_type": "display_data"
    }
   ],
   "source": [
    "import rasterio\n",
    "import matplotlib.pyplot as plt\n",
    "\n",
    "# Load the raster data\n",
    "raster_path = \"data/raster/popCount_2020.tif\"\n",
    "\n",
    "with rasterio.open(raster_path) as src:\n",
    "    raster_data = src.read(1)\n",
    "\n",
    "    # Plot the raster using Matplotlib\n",
    "    plt.imshow(raster_data, cmap='viridis')\n",
    "    plt.colorbar(label=\"Pixel Value\") \n",
    "    plt.title(\"Population Count 2020\")\n",
    "    plt.xlabel(\"Column Index\")\n",
    "    plt.ylabel(\"Row Index\")\n",
    "    plt.show()"
   ]
  },
  {
   "cell_type": "markdown",
   "metadata": {},
   "source": [
    "We can calculate basic summary statistics (mean, median, min, max) to get an overview of the population distribution across the region."
   ]
  },
  {
   "cell_type": "code",
   "execution_count": 21,
   "metadata": {},
   "outputs": [
    {
     "name": "stdout",
     "output_type": "stream",
     "text": [
      "Minimum value: 0.1460667997598648\n",
      "Maximum value: 136.91754150390625\n",
      "Mean value: 5.2824760935231385\n",
      "Median value: 2.4147253036499023\n"
     ]
    }
   ],
   "source": [
    "import numpy as np \n",
    "\n",
    "raster_file = \"data/raster/popCount_2020.tif\"\n",
    "# open the raster file\n",
    "with rasterio.open(raster_file) as src:\n",
    "\n",
    "    # Read the raster data as a numpy array\n",
    "    raster_data = src.read(1) # Single band raster\n",
    "\n",
    "    # Mask invalid or nodata values \n",
    "    # Define a custom condition for masking (e.g., mask zeros)\n",
    "    masked_data = np.ma.masked_where((raster_data == 0) | np.isnan(raster_data), raster_data)\n",
    "\n",
    "    # Calculate summary statistics\n",
    "    min_value = masked_data.min()\n",
    "    max_value = masked_data.max()\n",
    "    mean_value = masked_data.mean()\n",
    "    median_value = np.ma.median(masked_data)\n",
    "\n",
    "    # Print the results\n",
    "    print(f\"Minimum value: {min_value}\")\n",
    "    print(f\"Maximum value: {max_value}\")\n",
    "    print(f\"Mean value: {mean_value}\")\n",
    "    print(f\"Median value: {median_value}\")"
   ]
  },
  {
   "cell_type": "markdown",
   "metadata": {},
   "source": [
    "### Identify High-Density Regions\n",
    "\n",
    "You can extract specific regions of the raster where the population is above a certain threshold, which could be useful for identifying high-density areas."
   ]
  },
  {
   "cell_type": "code",
   "execution_count": 38,
   "metadata": {},
   "outputs": [
    {
     "name": "stdout",
     "output_type": "stream",
     "text": [
      "Number of high-density cells: 549\n",
      "Sample coordinates of high-density cells: [(80.399999692985, 28.688333420150848), (80.39583302633488, 28.685833420161014), (80.3966663596649, 28.685833420161014)]\n"
     ]
    }
   ],
   "source": [
    "import rasterio\n",
    "import numpy as np\n",
    "\n",
    "raster_file = \"data/raster/popCount_2020.tif\"\n",
    "\n",
    "# Define the population density threshold\n",
    "threshold = 100\n",
    "\n",
    "with rasterio.open(raster_file) as src:\n",
    "    raster_data = src.read(1)  # Read the first band\n",
    "    transform = src.transform  # Get the affine transform\n",
    "\n",
    "    # Mask invalid or nodata values \n",
    "    # Define a custom condition for masking (e.g., mask zeros)\n",
    "    masked_data = np.ma.masked_where((raster_data == 0) | np.isnan(raster_data), raster_data)\n",
    "\n",
    "    # Identify high-density cells\n",
    "    high_density_mask = raster_data > threshold\n",
    "    high_density_indices = np.argwhere(high_density_mask)\n",
    "\n",
    "    # Convert indices to geographic coordinates\n",
    "    coordinates_high_density = [\n",
    "        rasterio.transform.xy(transform, row, col, offset=\"center\")\n",
    "        for row, col in high_density_indices\n",
    "    ]\n",
    "\n",
    "    num_high_density_cells = len(coordinates_high_density)\n",
    "    print(f\"Number of high-density cells: {num_high_density_cells}\")\n",
    "    print(f\"Sample coordinates of high-density cells: {coordinates_high_density[:3]}\") # Display first three coordinates\n"
   ]
  },
  {
   "cell_type": "code",
   "execution_count": 39,
   "metadata": {},
   "outputs": [
    {
     "data": {
      "image/png": "[encoded data removed]",
      "text/plain": [
       "<Figure size 576x432 with 1 Axes>"
      ]
     },
     "metadata": {
      "needs_background": "light"
     },
     "output_type": "display_data"
    }
   ],
   "source": [
    "import matplotlib.pyplot as plt\n",
    "\n",
    "# Coordinates of high-density cells (xyFromCell provides (x, y) coordinates)\n",
    "x_coords, y_coords = zip(*coordinates_high_density)\n",
    "\n",
    "# Plot the high-density points\n",
    "plt.figure(figsize=(8, 6))\n",
    "plt.scatter(x_coords, y_coords, c='red', s=5, label=\"High Density Cells\")\n",
    "plt.title(\"High Density Regions\")\n",
    "plt.xlabel(\"Longitude\")\n",
    "plt.ylabel(\"Latitude\")\n",
    "plt.legend()\n",
    "plt.show()\n"
   ]
  },
  {
   "cell_type": "markdown",
   "metadata": {},
   "source": [
    "- `x_coords, y_coords`: Unzips the coordinates_high_density to separate x and y values.\n",
    "- `scatter`: Plots the high-density cells as red points on the plot.\n",
    "- `s=5`: Sets the size of the points."
   ]
  },
  {
   "cell_type": "markdown",
   "metadata": {},
   "source": [
    "### Classify Raster Data\n",
    "\n",
    "To classify raster data into categories (e.g., low, medium, high) in Python, you can use numpy's `cut` function for creating intervals."
   ]
  },
  {
   "cell_type": "code",
   "execution_count": 54,
   "metadata": {},
   "outputs": [
    {
     "name": "stdout",
     "output_type": "stream",
     "text": [
      "   x  y      class\n",
      "0  0  0  Very High\n",
      "1  1  0  Very High\n",
      "2  2  0  Very High\n",
      "3  3  0  Very High\n",
      "4  4  0  Very High\n"
     ]
    }
   ],
   "source": [
    "import numpy as np\n",
    "import pandas as pd\n",
    "import rasterio\n",
    "\n",
    "# Open the raster data\n",
    "with rasterio.open(\"data/raster/popCount_2020.tif\") as src:\n",
    "    raster_data = src.read(1)  # Read the first band (assuming single-band raster)\n",
    "\n",
    "# Reclassify the raster values into categories\n",
    "breaks = [0, 1, 5, 20, 100, np.inf]  # Define the class boundaries\n",
    "labels = [\"Very Low\", \"Low\", \"Medium\", \"High\", \"Very High\"]\n",
    "\n",
    "# Use np.digitize to classify the raster values\n",
    "classified_data = np.digitize(raster_data, bins=breaks, right=True)\n",
    "\n",
    "# Handle the edge case where np.digitize assigns a value greater than the length of the labels\n",
    "classified_data[classified_data == len(labels) + 1] = len(labels)  # Ensure index for 'Very High'\n",
    "\n",
    "# Convert the numeric classification to labels\n",
    "classified_labels = np.array(labels)[classified_data - 1]  # Adjust index for 0-based indexing\n",
    "\n",
    "# Create a DataFrame with x, y coordinates and classification\n",
    "rows, cols = np.indices(raster_data.shape)\n",
    "df_classified = pd.DataFrame({\n",
    "    'x': cols.flatten(),\n",
    "    'y': rows.flatten(),\n",
    "    'class': classified_labels.flatten()\n",
    "})\n",
    "\n",
    "# Show the first few rows of the classified DataFrame\n",
    "print(df_classified.head())\n"
   ]
  },
  {
   "cell_type": "markdown",
   "metadata": {},
   "source": [
    "- `np.digitize`: Classifies the raster values based on predefined `breaks`. The function returns the indices of which class each value belongs to.\n",
    "- `classified_labels`: Uses the indices from `np.digitize` to assign the corresponding labels from the `labels` list.\n",
    "- `Creating DataFrame`: The coordinates of each raster cell `(x, y)` are flattened into arrays and combined with the classified labels to create a `DataFrame`.\n",
    "- `right=True`: Ensures that the right boundary of each bin is included in the classification. For example, values exactly equal to 5 will be classified as \"Low\", rather than being excluded.\n",
    "- `Edge Case Handling`: If np.digitize assigns an index greater than the size of labels (for values above the last bin), we correct it by explicitly setting those values to the last class (\"Very High\").\n",
    "- `Adjustment for 0-based Indexing`: Since the labels array is 0-based, we subtract 1 from the classification indices to correctly match the class labels.\n",
    "\n",
    "This code will provide the classified raster values as a DataFrame, which you can use for further analysis or visualization."
   ]
  },
  {
   "cell_type": "code",
   "execution_count": 52,
   "metadata": {},
   "outputs": [
    {
     "data": {
      "image/png": "[encoded data removed]",
      "text/plain": [
       "<Figure size 576x432 with 2 Axes>"
      ]
     },
     "metadata": {
      "needs_background": "light"
     },
     "output_type": "display_data"
    }
   ],
   "source": [
    "from matplotlib.colors import ListedColormap\n",
    "\n",
    "# Create a plot to visualize the classified data\n",
    "fig, ax = plt.subplots(figsize=(8, 6))\n",
    "\n",
    "# Custom colors for the classes\n",
    "cmap = ListedColormap(['#f9f9f9', '#e1f7d5', '#d4f1a1', '#e7d300', '#ff6347'])\n",
    "bounds = [0, 1, 5, 20, 100, np.inf]\n",
    "norm = plt.Normalize(vmin=0, vmax=len(labels)-1)\n",
    "\n",
    "# Plot the classified raster data\n",
    "cax = ax.imshow(classified_data, cmap=cmap, norm=norm)\n",
    "ax.set_title(\"Classified Population Density\")\n",
    "\n",
    "# Add a colorbar with the class labels\n",
    "colorbar = fig.colorbar(cax, ax=ax, ticks=np.arange(len(labels)))\n",
    "colorbar.set_ticklabels(labels)\n",
    "colorbar.set_label('Classification')\n",
    "\n",
    "# Show the plot\n",
    "plt.show()"
   ]
  },
  {
   "cell_type": "markdown",
   "metadata": {},
   "source": [
    "*Note: Values outside of your Area of Interest (AOI) show as \"Very High,\" likely occurs because the raster data outside the AOI is being treated as having the highest value by default. To solve this, you need to mask the raster to focus only on the AOI, ensuring that areas outside the AOI are not processed or classified.* "
   ]
  },
  {
   "cell_type": "markdown",
   "metadata": {},
   "source": [
    "### Change Identification\n",
    "\n",
    "If you have multiple rasters representing population data over different time periods, you can compute the changes in population between two periods. Let’s load the Population Count raster data for years 2000 and 2020, so we can compute the changes in population over a 20-year period."
   ]
  },
  {
   "cell_type": "code",
   "execution_count": 70,
   "metadata": {},
   "outputs": [
    {
     "data": {
      "image/png": "[encoded data removed]",
      "text/plain": [
       "<Figure size 360x360 with 4 Axes>"
      ]
     },
     "metadata": {
      "needs_background": "light"
     },
     "output_type": "display_data"
    }
   ],
   "source": [
    "import rasterio\n",
    "import numpy as np\n",
    "import matplotlib.pyplot as plt\n",
    "\n",
    "# Load population count raster for the year 2000\n",
    "r1 = rasterio.open(\"data/raster/popCount_2000.tif\")\n",
    "\n",
    "# Load population count raster for the year 2020\n",
    "r2 = rasterio.open(\"data/raster/popCount_2020.tif\")\n",
    "\n",
    "# Read the population count data as arrays\n",
    "pop_2000 = r1.read(1)\n",
    "pop_2020 = r2.read(1)\n",
    "\n",
    "# Population change between 2020 and 2000\n",
    "population_change = pop_2020 - pop_2000\n",
    "\n",
    "# Set up a plotting layout: 2 rows, 2 columns\n",
    "fig, axs = plt.subplots(2, 2, figsize=(5, 5))\n",
    "\n",
    "# Plot the raster using Matplotlib\n",
    "axs[0, 0].imshow(pop_2000, cmap='viridis')\n",
    "axs[0, 0].set_title(\"Population 2000\")\n",
    "axs[0, 0].axis('off')\n",
    "\n",
    "# Plot the raster using Matplotlib\n",
    "axs[0, 1].imshow(pop_2020, cmap='viridis')\n",
    "axs[0, 1].set_title(\"Population 2020\")\n",
    "axs[0, 1].axis('off')\n",
    "\n",
    "# Plot the raster using Matplotlib\n",
    "axs[1, 0].imshow(population_change, cmap='coolwarm')\n",
    "axs[1, 0].set_title(\"Population Change\")\n",
    "axs[1, 0].axis('off')\n",
    "\n",
    "# Reset the layout for default (1 plot)\n",
    "axs[1, 1].axis('off')  # Empty subplot as we have only 3 plots\n",
    "\n",
    "plt.tight_layout()\n",
    "plt.show()\n"
   ]
  },
  {
   "cell_type": "markdown",
   "metadata": {},
   "source": [
    "- **Reading the Raster Files:**\n",
    "-- The `rasterio.open()` function is used to open the raster files.\n",
    "-- `r1.read(1)` and `r2.read(1)` read the first band (the population count data) of the raster files as arrays.\n",
    "\n",
    "- **Population Change Calculation:**\n",
    "-- The population change is calculated by subtracting the 2000 population values (`pop_2000`) from the 2020 population values (`pop_2020`).\n",
    "\n",
    "- **Plotting:**\n",
    "-- `matplotlib` is used to create the plots. We use `imshow` to display the rasters with the `viridis` colormap for population count and `coolwarm` for population change.\n",
    "-- The layout is set with `plt.subplots()` to create 2 rows and 2 columns, similar to `par(mfrow = c(2, 2))` in R.\n",
    "-- We turn off the axes with `axis('off')` for a cleaner plot."
   ]
  },
  {
   "cell_type": "markdown",
   "metadata": {},
   "source": [
    "**For this tutorial, this concludes the coverage of Data Frames in Python. If you would like to explore additional examples, or need clarification on any of the steps covered, please visit the GitHub repository: [Python_tutorial](https://github.com/Ohm-Np/Python_tutorial) and feel free to open an issue.**"
   ]
  }
 ],
 "metadata": {
  "kernelspec": {
   "display_name": "Python 3",
   "language": "python",
   "name": "python3"
  },
  "language_info": {
   "codemirror_mode": {
    "name": "ipython",
    "version": 3
   },
   "file_extension": ".py",
   "mimetype": "text/x-python",
   "name": "python",
   "nbconvert_exporter": "python",
   "pygments_lexer": "ipython3",
   "version": "3.9.13"
  }
 },
 "nbformat": 4,
 "nbformat_minor": 2
}
